{
 "cells": [
  {
   "cell_type": "code",
   "execution_count": 1,
   "metadata": {},
   "outputs": [
    {
     "data": {
      "text/html": [
       "<div>\n",
       "<style scoped>\n",
       "    .dataframe tbody tr th:only-of-type {\n",
       "        vertical-align: middle;\n",
       "    }\n",
       "\n",
       "    .dataframe tbody tr th {\n",
       "        vertical-align: top;\n",
       "    }\n",
       "\n",
       "    .dataframe thead th {\n",
       "        text-align: right;\n",
       "    }\n",
       "</style>\n",
       "<table border=\"1\" class=\"dataframe\">\n",
       "  <thead>\n",
       "    <tr style=\"text-align: right;\">\n",
       "      <th></th>\n",
       "      <th>white</th>\n",
       "      <th>black</th>\n",
       "      <th>distance</th>\n",
       "    </tr>\n",
       "  </thead>\n",
       "  <tbody>\n",
       "    <tr>\n",
       "      <th>0</th>\n",
       "      <td>bbnnqrkr</td>\n",
       "      <td>bbnnqrkr</td>\n",
       "      <td>0.0</td>\n",
       "    </tr>\n",
       "    <tr>\n",
       "      <th>1</th>\n",
       "      <td>qnbbrknr</td>\n",
       "      <td>qnbbrknr</td>\n",
       "      <td>0.0</td>\n",
       "    </tr>\n",
       "    <tr>\n",
       "      <th>2</th>\n",
       "      <td>rnbbknrq</td>\n",
       "      <td>rnbbknrq</td>\n",
       "      <td>0.0</td>\n",
       "    </tr>\n",
       "    <tr>\n",
       "      <th>3</th>\n",
       "      <td>rnbbknqr</td>\n",
       "      <td>rnbbknqr</td>\n",
       "      <td>0.0</td>\n",
       "    </tr>\n",
       "    <tr>\n",
       "      <th>4</th>\n",
       "      <td>rnbbqnkr</td>\n",
       "      <td>rnbbqnkr</td>\n",
       "      <td>0.0</td>\n",
       "    </tr>\n",
       "    <tr>\n",
       "      <th>...</th>\n",
       "      <td>...</td>\n",
       "      <td>...</td>\n",
       "      <td>...</td>\n",
       "    </tr>\n",
       "    <tr>\n",
       "      <th>921595</th>\n",
       "      <td>rbbnkqrn</td>\n",
       "      <td>qnnbrkbr</td>\n",
       "      <td>1.0</td>\n",
       "    </tr>\n",
       "    <tr>\n",
       "      <th>921596</th>\n",
       "      <td>rbbnkqrn</td>\n",
       "      <td>nrkbqnbr</td>\n",
       "      <td>1.0</td>\n",
       "    </tr>\n",
       "    <tr>\n",
       "      <th>921597</th>\n",
       "      <td>nqnrbkrb</td>\n",
       "      <td>rkqbrnbn</td>\n",
       "      <td>1.0</td>\n",
       "    </tr>\n",
       "    <tr>\n",
       "      <th>921598</th>\n",
       "      <td>brqnnkrb</td>\n",
       "      <td>rnbqkbnr</td>\n",
       "      <td>1.0</td>\n",
       "    </tr>\n",
       "    <tr>\n",
       "      <th>921599</th>\n",
       "      <td>rnkrbbqn</td>\n",
       "      <td>brqbknnr</td>\n",
       "      <td>1.0</td>\n",
       "    </tr>\n",
       "  </tbody>\n",
       "</table>\n",
       "<p>921600 rows × 3 columns</p>\n",
       "</div>"
      ],
      "text/plain": [
       "           white     black  distance\n",
       "0       bbnnqrkr  bbnnqrkr       0.0\n",
       "1       qnbbrknr  qnbbrknr       0.0\n",
       "2       rnbbknrq  rnbbknrq       0.0\n",
       "3       rnbbknqr  rnbbknqr       0.0\n",
       "4       rnbbqnkr  rnbbqnkr       0.0\n",
       "...          ...       ...       ...\n",
       "921595  rbbnkqrn  qnnbrkbr       1.0\n",
       "921596  rbbnkqrn  nrkbqnbr       1.0\n",
       "921597  nqnrbkrb  rkqbrnbn       1.0\n",
       "921598  brqnnkrb  rnbqkbnr       1.0\n",
       "921599  rnkrbbqn  brqbknnr       1.0\n",
       "\n",
       "[921600 rows x 3 columns]"
      ]
     },
     "execution_count": 1,
     "metadata": {},
     "output_type": "execute_result"
    }
   ],
   "source": [
    "import pandas as pd\n",
    "\n",
    "distance_df = pd.read_parquet(\"../sorted_values.parquet\")\n",
    "distance_df"
   ]
  },
  {
   "cell_type": "code",
   "execution_count": 2,
   "metadata": {},
   "outputs": [
    {
     "data": {
      "text/plain": [
       "<Axes: ylabel='Frequency'>"
      ]
     },
     "execution_count": 2,
     "metadata": {},
     "output_type": "execute_result"
    },
    {
     "data": {
      "image/png": "[encoded data removed]",
      "text/plain": [
       "<Figure size 640x480 with 1 Axes>"
      ]
     },
     "metadata": {},
     "output_type": "display_data"
    }
   ],
   "source": [
    "DISTANCE_THRESHOLD = 0.1\n",
    "distance_df[distance_df[\"distance\"] > DISTANCE_THRESHOLD][\"distance\"].plot.hist(\n",
    "    bins=18, range=(0.1, 1)\n",
    ")"
   ]
  },
  {
   "cell_type": "code",
   "execution_count": 15,
   "metadata": {},
   "outputs": [
    {
     "data": {
      "text/html": [
       "<div>\n",
       "<style scoped>\n",
       "    .dataframe tbody tr th:only-of-type {\n",
       "        vertical-align: middle;\n",
       "    }\n",
       "\n",
       "    .dataframe tbody tr th {\n",
       "        vertical-align: top;\n",
       "    }\n",
       "\n",
       "    .dataframe thead th {\n",
       "        text-align: right;\n",
       "    }\n",
       "</style>\n",
       "<table border=\"1\" class=\"dataframe\">\n",
       "  <thead>\n",
       "    <tr style=\"text-align: right;\">\n",
       "      <th></th>\n",
       "      <th>white</th>\n",
       "      <th>black</th>\n",
       "      <th>distance</th>\n",
       "    </tr>\n",
       "  </thead>\n",
       "  <tbody>\n",
       "    <tr>\n",
       "      <th>412742</th>\n",
       "      <td>nrnbkrbq</td>\n",
       "      <td>rbnnbqkr</td>\n",
       "      <td>0.715278</td>\n",
       "    </tr>\n",
       "    <tr>\n",
       "      <th>887200</th>\n",
       "      <td>qbbrnnkr</td>\n",
       "      <td>rkqnbnrb</td>\n",
       "      <td>0.937500</td>\n",
       "    </tr>\n",
       "    <tr>\n",
       "      <th>719181</th>\n",
       "      <td>rkbnrqnb</td>\n",
       "      <td>nnbbqrkr</td>\n",
       "      <td>0.826389</td>\n",
       "    </tr>\n",
       "    <tr>\n",
       "      <th>610352</th>\n",
       "      <td>nnrkbqrb</td>\n",
       "      <td>qbnnrkbr</td>\n",
       "      <td>0.777778</td>\n",
       "    </tr>\n",
       "    <tr>\n",
       "      <th>198116</th>\n",
       "      <td>rbbnnqkr</td>\n",
       "      <td>qnbrnbkr</td>\n",
       "      <td>0.638889</td>\n",
       "    </tr>\n",
       "    <tr>\n",
       "      <th>...</th>\n",
       "      <td>...</td>\n",
       "      <td>...</td>\n",
       "      <td>...</td>\n",
       "    </tr>\n",
       "    <tr>\n",
       "      <th>6132</th>\n",
       "      <td>nnbrkbqr</td>\n",
       "      <td>nnrkbbqr</td>\n",
       "      <td>0.298611</td>\n",
       "    </tr>\n",
       "    <tr>\n",
       "      <th>980</th>\n",
       "      <td>rkbbrqnn</td>\n",
       "      <td>rkbbrnqn</td>\n",
       "      <td>0.236111</td>\n",
       "    </tr>\n",
       "    <tr>\n",
       "      <th>4864</th>\n",
       "      <td>nbbrkrqn</td>\n",
       "      <td>nbbrkqrn</td>\n",
       "      <td>0.291667</td>\n",
       "    </tr>\n",
       "    <tr>\n",
       "      <th>2340</th>\n",
       "      <td>rnnqkrbb</td>\n",
       "      <td>nrnqkrbb</td>\n",
       "      <td>0.236111</td>\n",
       "    </tr>\n",
       "    <tr>\n",
       "      <th>979</th>\n",
       "      <td>rnqbnkbr</td>\n",
       "      <td>rnkbnqbr</td>\n",
       "      <td>0.125000</td>\n",
       "    </tr>\n",
       "  </tbody>\n",
       "</table>\n",
       "<p>920640 rows × 3 columns</p>\n",
       "</div>"
      ],
      "text/plain": [
       "           white     black  distance\n",
       "412742  nrnbkrbq  rbnnbqkr  0.715278\n",
       "887200  qbbrnnkr  rkqnbnrb  0.937500\n",
       "719181  rkbnrqnb  nnbbqrkr  0.826389\n",
       "610352  nnrkbqrb  qbnnrkbr  0.777778\n",
       "198116  rbbnnqkr  qnbrnbkr  0.638889\n",
       "...          ...       ...       ...\n",
       "6132    nnbrkbqr  nnrkbbqr  0.298611\n",
       "980     rkbbrqnn  rkbbrnqn  0.236111\n",
       "4864    nbbrkrqn  nbbrkqrn  0.291667\n",
       "2340    rnnqkrbb  nrnqkrbb  0.236111\n",
       "979     rnqbnkbr  rnkbnqbr  0.125000\n",
       "\n",
       "[920640 rows x 3 columns]"
      ]
     },
     "execution_count": 15,
     "metadata": {},
     "output_type": "execute_result"
    }
   ],
   "source": [
    "df_samples = distance_df.where(distance_df.distance > 0.0).dropna()\n",
    "df_samples.sample(frac=1, weights=df_samples.distance, random_state=42)"
   ]
  },
  {
   "cell_type": "code",
   "execution_count": 17,
   "metadata": {},
   "outputs": [
    {
     "data": {
      "text/html": [
       "<div>\n",
       "<style scoped>\n",
       "    .dataframe tbody tr th:only-of-type {\n",
       "        vertical-align: middle;\n",
       "    }\n",
       "\n",
       "    .dataframe tbody tr th {\n",
       "        vertical-align: top;\n",
       "    }\n",
       "\n",
       "    .dataframe thead th {\n",
       "        text-align: right;\n",
       "    }\n",
       "</style>\n",
       "<table border=\"1\" class=\"dataframe\">\n",
       "  <thead>\n",
       "    <tr style=\"text-align: right;\">\n",
       "      <th></th>\n",
       "      <th>white</th>\n",
       "      <th>black</th>\n",
       "      <th>distance</th>\n",
       "    </tr>\n",
       "  </thead>\n",
       "  <tbody>\n",
       "    <tr>\n",
       "      <th>3065</th>\n",
       "      <td>nbrqkrbn</td>\n",
       "      <td>nbrkqrbn</td>\n",
       "      <td>0.291667</td>\n",
       "    </tr>\n",
       "    <tr>\n",
       "      <th>3066</th>\n",
       "      <td>nbrkqrbn</td>\n",
       "      <td>nbrqkrbn</td>\n",
       "      <td>0.291667</td>\n",
       "    </tr>\n",
       "    <tr>\n",
       "      <th>3622</th>\n",
       "      <td>bnrqkrnb</td>\n",
       "      <td>bnrkqrnb</td>\n",
       "      <td>0.291667</td>\n",
       "    </tr>\n",
       "    <tr>\n",
       "      <th>3751</th>\n",
       "      <td>bnrkqrnb</td>\n",
       "      <td>bnrqkrnb</td>\n",
       "      <td>0.291667</td>\n",
       "    </tr>\n",
       "    <tr>\n",
       "      <th>3860</th>\n",
       "      <td>brnqknrb</td>\n",
       "      <td>brnkqnrb</td>\n",
       "      <td>0.291667</td>\n",
       "    </tr>\n",
       "    <tr>\n",
       "      <th>...</th>\n",
       "      <td>...</td>\n",
       "      <td>...</td>\n",
       "      <td>...</td>\n",
       "    </tr>\n",
       "    <tr>\n",
       "      <th>920381</th>\n",
       "      <td>rbknbqrn</td>\n",
       "      <td>nrqbnkbr</td>\n",
       "      <td>1.000000</td>\n",
       "    </tr>\n",
       "    <tr>\n",
       "      <th>920432</th>\n",
       "      <td>bqrknbrn</td>\n",
       "      <td>nrbnkrqb</td>\n",
       "      <td>1.000000</td>\n",
       "    </tr>\n",
       "    <tr>\n",
       "      <th>920728</th>\n",
       "      <td>bqrnkbrn</td>\n",
       "      <td>nrbknrqb</td>\n",
       "      <td>1.000000</td>\n",
       "    </tr>\n",
       "    <tr>\n",
       "      <th>921025</th>\n",
       "      <td>bnrbnkrq</td>\n",
       "      <td>qrknbrnb</td>\n",
       "      <td>1.000000</td>\n",
       "    </tr>\n",
       "    <tr>\n",
       "      <th>921241</th>\n",
       "      <td>bnrbnkqr</td>\n",
       "      <td>rqknbrnb</td>\n",
       "      <td>1.000000</td>\n",
       "    </tr>\n",
       "  </tbody>\n",
       "</table>\n",
       "<p>960 rows × 3 columns</p>\n",
       "</div>"
      ],
      "text/plain": [
       "           white     black  distance\n",
       "3065    nbrqkrbn  nbrkqrbn  0.291667\n",
       "3066    nbrkqrbn  nbrqkrbn  0.291667\n",
       "3622    bnrqkrnb  bnrkqrnb  0.291667\n",
       "3751    bnrkqrnb  bnrqkrnb  0.291667\n",
       "3860    brnqknrb  brnkqnrb  0.291667\n",
       "...          ...       ...       ...\n",
       "920381  rbknbqrn  nrqbnkbr  1.000000\n",
       "920432  bqrknbrn  nrbnkrqb  1.000000\n",
       "920728  bqrnkbrn  nrbknrqb  1.000000\n",
       "921025  bnrbnkrq  qrknbrnb  1.000000\n",
       "921241  bnrbnkqr  rqknbrnb  1.000000\n",
       "\n",
       "[960 rows x 3 columns]"
      ]
     },
     "execution_count": 17,
     "metadata": {},
     "output_type": "execute_result"
    }
   ],
   "source": [
    "# df where white is reversed black\n",
    "df_reversed = distance_df.where(\n",
    "    distance_df.white == distance_df.black.str[::-1]\n",
    ").dropna()\n",
    "df_reversed"
   ]
  },
  {
   "cell_type": "code",
   "execution_count": 18,
   "metadata": {},
   "outputs": [
    {
     "data": {
      "text/plain": [
       "<Axes: ylabel='Frequency'>"
      ]
     },
     "execution_count": 18,
     "metadata": {},
     "output_type": "execute_result"
    },
    {
     "data": {
      "image/png": "[encoded data removed]",
      "text/plain": [
       "<Figure size 640x480 with 1 Axes>"
      ]
     },
     "metadata": {},
     "output_type": "display_data"
    }
   ],
   "source": [
    "df_reversed.plot.hist(bins=18, range=(0.1, 1))"
   ]
  },
  {
   "cell_type": "code",
   "execution_count": 37,
   "metadata": {},
   "outputs": [
    {
     "data": {
      "text/plain": [
       "{'Debug Log File': '',\n",
       " 'Contempt': 0,\n",
       " 'Min Split Depth': 0,\n",
       " 'Ponder': 'false',\n",
       " 'MultiPV': 1,\n",
       " 'Skill Level': 20,\n",
       " 'Move Overhead': 10,\n",
       " 'Minimum Thinking Time': 20,\n",
       " 'Slow Mover': 100,\n",
       " 'UCI_Chess960': 'true',\n",
       " 'UCI_LimitStrength': 'false',\n",
       " 'UCI_Elo': 1350,\n",
       " 'Threads': 7,\n",
       " 'Hash': 2048}"
      ]
     },
     "execution_count": 37,
     "metadata": {},
     "output_type": "execute_result"
    }
   ],
   "source": [
    "from stockfish import Stockfish\n",
    "\n",
    "stockfish = Stockfish(\n",
    "    depth=40, parameters={\"UCI_Chess960\": \"true\", \"Hash\": 2048, \"Threads\": 7}\n",
    ")\n",
    "stockfish.get_parameters()"
   ]
  },
  {
   "cell_type": "markdown",
   "metadata": {},
   "source": []
  },
  {
   "cell_type": "code",
   "execution_count": 38,
   "metadata": {},
   "outputs": [
    {
     "name": "stdout",
     "output_type": "stream",
     "text": [
      "+---+---+---+---+---+---+---+---+\n",
      "| r | q | b | k | n | r | n | b | 8\n",
      "+---+---+---+---+---+---+---+---+\n",
      "| p | p | p | p | p | p | p | p | 7\n",
      "+---+---+---+---+---+---+---+---+\n",
      "|   |   |   |   |   |   |   |   | 6\n",
      "+---+---+---+---+---+---+---+---+\n",
      "|   |   |   |   |   |   |   |   | 5\n",
      "+---+---+---+---+---+---+---+---+\n",
      "|   |   |   |   |   |   |   |   | 4\n",
      "+---+---+---+---+---+---+---+---+\n",
      "|   |   |   |   |   |   |   |   | 3\n",
      "+---+---+---+---+---+---+---+---+\n",
      "| P | P | P | P | P | P | P | P | 2\n",
      "+---+---+---+---+---+---+---+---+\n",
      "| R | N | B | K | N | R | Q | B | 1\n",
      "+---+---+---+---+---+---+---+---+\n",
      "  a   b   c   d   e   f   g   h\n",
      "\n",
      "rqbknrnb/pppppppp/8/8/8/8/PPPPPPPP/RNBKNRQB w KQkq - 0 1\n"
     ]
    }
   ],
   "source": [
    "# load first row of df_samples as starting position in FEN notation\n",
    "row = df_samples.iloc[0]\n",
    "starting_position_fen = (\n",
    "    f\"{row.black.lower()}/pppppppp/8/8/8/8/PPPPPPPP/{row.white.upper()} w KQkq - 0 1\"\n",
    ")\n",
    "stockfish.set_fen_position(starting_position_fen)\n",
    "print(stockfish.get_board_visual())\n",
    "print(starting_position_fen)"
   ]
  },
  {
   "cell_type": "code",
   "execution_count": 39,
   "metadata": {},
   "outputs": [
    {
     "data": {
      "text/plain": [
       "[282, 715, 3]"
      ]
     },
     "execution_count": 39,
     "metadata": {},
     "output_type": "execute_result"
    }
   ],
   "source": [
    "stockfish.get_wdl_stats()"
   ]
  },
  {
   "cell_type": "code",
   "execution_count": 40,
   "metadata": {},
   "outputs": [
    {
     "data": {
      "text/plain": [
       "[{'Move': 'g2g4', 'Centipawn': 62, 'Mate': None},\n",
       " {'Move': 'e2e4', 'Centipawn': 60, 'Mate': None},\n",
       " {'Move': 'd2d3', 'Centipawn': 59, 'Mate': None},\n",
       " {'Move': 'f2f4', 'Centipawn': 54, 'Mate': None},\n",
       " {'Move': 'b1c3', 'Centipawn': 53, 'Mate': None}]"
      ]
     },
     "execution_count": 40,
     "metadata": {},
     "output_type": "execute_result"
    }
   ],
   "source": [
    "stockfish.get_top_moves()"
   ]
  },
  {
   "cell_type": "code",
   "execution_count": 41,
   "metadata": {},
   "outputs": [],
   "source": [
    "stockfish.set_depth(30)"
   ]
  },
  {
   "cell_type": "code",
   "execution_count": 44,
   "metadata": {},
   "outputs": [
    {
     "data": {
      "text/plain": [
       "[224, 772, 4]"
      ]
     },
     "execution_count": 44,
     "metadata": {},
     "output_type": "execute_result"
    }
   ],
   "source": [
    "stockfish.get_wdl_stats()"
   ]
  },
  {
   "cell_type": "code",
   "execution_count": 43,
   "metadata": {},
   "outputs": [
    {
     "data": {
      "text/plain": [
       "[{'Move': 'e2e4', 'Centipawn': 69, 'Mate': None},\n",
       " {'Move': 'g2g4', 'Centipawn': 63, 'Mate': None},\n",
       " {'Move': 'b1c3', 'Centipawn': 55, 'Mate': None},\n",
       " {'Move': 'f2f4', 'Centipawn': 53, 'Mate': None},\n",
       " {'Move': 'd2d3', 'Centipawn': 51, 'Mate': None}]"
      ]
     },
     "execution_count": 43,
     "metadata": {},
     "output_type": "execute_result"
    }
   ],
   "source": [
    "stockfish.get_top_moves()"
   ]
  }
 ],
 "metadata": {
  "kernelspec": {
   "display_name": ".venv",
   "language": "python",
   "name": "python3"
  },
  "language_info": {
   "codemirror_mode": {
    "name": "ipython",
    "version": 3
   },
   "file_extension": ".py",
   "mimetype": "text/x-python",
   "name": "python",
   "nbconvert_exporter": "python",
   "pygments_lexer": "ipython3",
   "version": "3.11.6"
  }
 },
 "nbformat": 4,
 "nbformat_minor": 2
}
