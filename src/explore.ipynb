{
 "cells": [
  {
   "cell_type": "code",
   "execution_count": 1,
   "metadata": {},
   "outputs": [
    {
     "data": {
      "text/html": [
       "<div>\n",
       "<style scoped>\n",
       "    .dataframe tbody tr th:only-of-type {\n",
       "        vertical-align: middle;\n",
       "    }\n",
       "\n",
       "    .dataframe tbody tr th {\n",
       "        vertical-align: top;\n",
       "    }\n",
       "\n",
       "    .dataframe thead th {\n",
       "        text-align: right;\n",
       "    }\n",
       "</style>\n",
       "<table border=\"1\" class=\"dataframe\">\n",
       "  <thead>\n",
       "    <tr style=\"text-align: right;\">\n",
       "      <th></th>\n",
       "      <th>white</th>\n",
       "      <th>black</th>\n",
       "      <th>distance</th>\n",
       "    </tr>\n",
       "  </thead>\n",
       "  <tbody>\n",
       "    <tr>\n",
       "      <th>0</th>\n",
       "      <td>bbnnqrkr</td>\n",
       "      <td>bbnnqrkr</td>\n",
       "      <td>0.0</td>\n",
       "    </tr>\n",
       "    <tr>\n",
       "      <th>1</th>\n",
       "      <td>qnbbrknr</td>\n",
       "      <td>qnbbrknr</td>\n",
       "      <td>0.0</td>\n",
       "    </tr>\n",
       "    <tr>\n",
       "      <th>2</th>\n",
       "      <td>rnbbknrq</td>\n",
       "      <td>rnbbknrq</td>\n",
       "      <td>0.0</td>\n",
       "    </tr>\n",
       "    <tr>\n",
       "      <th>3</th>\n",
       "      <td>rnbbknqr</td>\n",
       "      <td>rnbbknqr</td>\n",
       "      <td>0.0</td>\n",
       "    </tr>\n",
       "    <tr>\n",
       "      <th>4</th>\n",
       "      <td>rnbbqnkr</td>\n",
       "      <td>rnbbqnkr</td>\n",
       "      <td>0.0</td>\n",
       "    </tr>\n",
       "    <tr>\n",
       "      <th>...</th>\n",
       "      <td>...</td>\n",
       "      <td>...</td>\n",
       "      <td>...</td>\n",
       "    </tr>\n",
       "    <tr>\n",
       "      <th>921595</th>\n",
       "      <td>rbbnkqrn</td>\n",
       "      <td>qnnbrkbr</td>\n",
       "      <td>1.0</td>\n",
       "    </tr>\n",
       "    <tr>\n",
       "      <th>921596</th>\n",
       "      <td>rbbnkqrn</td>\n",
       "      <td>nrkbqnbr</td>\n",
       "      <td>1.0</td>\n",
       "    </tr>\n",
       "    <tr>\n",
       "      <th>921597</th>\n",
       "      <td>nqnrbkrb</td>\n",
       "      <td>rkqbrnbn</td>\n",
       "      <td>1.0</td>\n",
       "    </tr>\n",
       "    <tr>\n",
       "      <th>921598</th>\n",
       "      <td>brqnnkrb</td>\n",
       "      <td>rnbqkbnr</td>\n",
       "      <td>1.0</td>\n",
       "    </tr>\n",
       "    <tr>\n",
       "      <th>921599</th>\n",
       "      <td>rnkrbbqn</td>\n",
       "      <td>brqbknnr</td>\n",
       "      <td>1.0</td>\n",
       "    </tr>\n",
       "  </tbody>\n",
       "</table>\n",
       "<p>921600 rows × 3 columns</p>\n",
       "</div>"
      ],
      "text/plain": [
       "           white     black  distance\n",
       "0       bbnnqrkr  bbnnqrkr       0.0\n",
       "1       qnbbrknr  qnbbrknr       0.0\n",
       "2       rnbbknrq  rnbbknrq       0.0\n",
       "3       rnbbknqr  rnbbknqr       0.0\n",
       "4       rnbbqnkr  rnbbqnkr       0.0\n",
       "...          ...       ...       ...\n",
       "921595  rbbnkqrn  qnnbrkbr       1.0\n",
       "921596  rbbnkqrn  nrkbqnbr       1.0\n",
       "921597  nqnrbkrb  rkqbrnbn       1.0\n",
       "921598  brqnnkrb  rnbqkbnr       1.0\n",
       "921599  rnkrbbqn  brqbknnr       1.0\n",
       "\n",
       "[921600 rows x 3 columns]"
      ]
     },
     "execution_count": 1,
     "metadata": {},
     "output_type": "execute_result"
    }
   ],
   "source": [
    "import pandas as pd\n",
    "\n",
    "df = pd.read_parquet(\"../sorted_values.parquet\")\n",
    "df"
   ]
  },
  {
   "cell_type": "code",
   "execution_count": 26,
   "metadata": {},
   "outputs": [
    {
     "data": {
      "text/plain": [
       "<Axes: ylabel='Frequency'>"
      ]
     },
     "execution_count": 26,
     "metadata": {},
     "output_type": "execute_result"
    },
    {
     "data": {
      "image/png": "[encoded data removed]",
      "text/plain": [
       "<Figure size 640x480 with 1 Axes>"
      ]
     },
     "metadata": {},
     "output_type": "display_data"
    }
   ],
   "source": [
    "df[df[\"distance\"] > 0.1][\"distance\"].plot.hist(bins=18, range=(0.1, 1))"
   ]
  },
  {
   "cell_type": "code",
   "execution_count": null,
   "metadata": {},
   "outputs": [],
   "source": []
  }
 ],
 "metadata": {
  "kernelspec": {
   "display_name": ".venv",
   "language": "python",
   "name": "python3"
  },
  "language_info": {
   "codemirror_mode": {
    "name": "ipython",
    "version": 3
   },
   "file_extension": ".py",
   "mimetype": "text/x-python",
   "name": "python",
   "nbconvert_exporter": "python",
   "pygments_lexer": "ipython3",
   "version": "3.11.6"
  }
 },
 "nbformat": 4,
 "nbformat_minor": 2
}
